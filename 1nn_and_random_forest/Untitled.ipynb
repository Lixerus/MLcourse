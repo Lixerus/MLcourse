{
 "cells": [
  {
   "cell_type": "code",
   "execution_count": 1,
   "id": "operational-cheese",
   "metadata": {},
   "outputs": [],
   "source": [
    "import numpy as np\n",
    "from sklearn.datasets import load_digits\n",
    "from sklearn.ensemble import RandomForestClassifier\n",
    "from sklearn.metrics import accuracy_score\n",
    "from sklearn.datasets import load_iris"
   ]
  },
  {
   "cell_type": "code",
   "execution_count": 2,
   "id": "fleet-czech",
   "metadata": {},
   "outputs": [],
   "source": [
    "#loading digits \n",
    "digits = load_digits()\n",
    "X = digits.data\n",
    "Y = digits.target"
   ]
  },
  {
   "cell_type": "code",
   "execution_count": 3,
   "id": "cognitive-chile",
   "metadata": {},
   "outputs": [],
   "source": [
    "#разделяем данные на train и test выборки\n",
    "idx = int(0.75*X.shape[0])+1\n",
    "X_train, X_test = np.split(X, [idx])\n",
    "Y_train, Y_test = np.split(Y, [idx])"
   ]
  },
  {
   "cell_type": "code",
   "execution_count": 4,
   "id": "premier-ethiopia",
   "metadata": {},
   "outputs": [],
   "source": [
    "zeros, ones, twos, threes, fours, fives, sixes, sevens, eights, nines = ([] for _ in range (10))\n",
    "numbers = (zeros, ones, twos, threes, fours, fives, sixes, sevens, eights, nines)"
   ]
  },
  {
   "cell_type": "code",
   "execution_count": 5,
   "id": "earlier-steel",
   "metadata": {},
   "outputs": [],
   "source": [
    "for i in range (Y_test.shape[0]):\n",
    "    numbers[Y_test[i]].append(X_test[i])"
   ]
  },
  {
   "cell_type": "code",
   "execution_count": 6,
   "id": "chubby-industry",
   "metadata": {},
   "outputs": [],
   "source": [
    "def mass_center (array):\n",
    "    return (1/len(array)) * sum(np.array(array))"
   ]
  },
  {
   "cell_type": "code",
   "execution_count": 7,
   "id": "formal-alcohol",
   "metadata": {},
   "outputs": [],
   "source": [
    "mass_center_array = []\n",
    "for i in range (10):\n",
    "    mass_center_array.append(mass_center(numbers[i]))"
   ]
  },
  {
   "cell_type": "code",
   "execution_count": 8,
   "id": "structural-boards",
   "metadata": {},
   "outputs": [],
   "source": [
    "def prediction(data):\n",
    "    prediction_array = []\n",
    "    for x in data:\n",
    "        min_abs = np.inf\n",
    "        for i in range (10):\n",
    "            curr = np.linalg.norm(x-mass_center_array[i])\n",
    "            if curr < min_abs:\n",
    "                min_abs = curr\n",
    "                target_result = i\n",
    "        prediction_array.append(target_result)\n",
    "    return prediction_array"
   ]
  },
  {
   "cell_type": "code",
   "execution_count": 9,
   "id": "listed-scratch",
   "metadata": {},
   "outputs": [
    {
     "name": "stdout",
     "output_type": "stream",
     "text": [
      "0.10467706013363032\n"
     ]
    }
   ],
   "source": [
    "knn_error_rate = 1 - accuracy_score(Y_test, prediction(X_test))\n",
    "print(knn_error_rate)"
   ]
  },
  {
   "cell_type": "code",
   "execution_count": 13,
   "id": "indonesian-ontario",
   "metadata": {},
   "outputs": [
    {
     "name": "stdout",
     "output_type": "stream",
     "text": [
      "[1.         0.99137478 0.99360048 0.99081826 0.98998348 0.98664415] [0.96439338 0.96717115 0.96662179 0.96272826 0.95994584 0.95494274]\n"
     ]
    }
   ],
   "source": [
    "from sklearn.neighbors import KNeighborsClassifier\n",
    "from sklearn.model_selection import validation_curve\n",
    "KN_cls = KNeighborsClassifier()\n",
    "\n",
    "arg_range = [1,2,3,5,7,10]\n",
    "train_scores , test_scores = validation_curve(KN_cls, X, Y, param_name = \"n_neighbors\", param_range = arg_range)\n",
    "print(train_scores.mean(axis = 1) , test_scores.mean(axis = 1))\n"
   ]
  },
  {
   "cell_type": "code",
   "execution_count": 20,
   "id": "unauthorized-ancient",
   "metadata": {},
   "outputs": [
    {
     "name": "stdout",
     "output_type": "stream",
     "text": [
      "[0.99081826 1.        ] [0.96272826 0.96328227]\n"
     ]
    }
   ],
   "source": [
    "arg_range = [\"uniform\",\"distance\"]\n",
    "train_scores , test_scores = validation_curve(KN_cls, X, Y, param_name = \"weights\", param_range = arg_range)\n",
    "print(train_scores.mean(axis = 1) , test_scores.mean(axis = 1))"
   ]
  },
  {
   "cell_type": "code",
   "execution_count": 27,
   "id": "black-hormone",
   "metadata": {},
   "outputs": [
    {
     "name": "stdout",
     "output_type": "stream",
     "text": [
      "0.03786191536748329\n"
     ]
    }
   ],
   "source": [
    "kn_cls =  KNeighborsClassifier(n_neighbors = 2, weights = \"distance\")\n",
    "kn_cls.fit(X_train,Y_train)\n",
    "knn_error_rate = 1 - accuracy_score(Y_test, kn_clas.predict(X_test))\n",
    "print(knn_error_rate)"
   ]
  },
  {
   "cell_type": "code",
   "execution_count": 28,
   "id": "outer-current",
   "metadata": {},
   "outputs": [
    {
     "data": {
      "text/plain": [
       "RandomForestClassifier()"
      ]
     },
     "execution_count": 28,
     "metadata": {},
     "output_type": "execute_result"
    }
   ],
   "source": [
    "RF_cls = RandomForestClassifier()\n",
    "RF_cls.fit(X_train, Y_train)\n",
    "knn_error_rate = 1 - accuracy_score(Y_test, RF_cls.predict(X_test))\n",
    "print(knn_error_rate)"
   ]
  },
  {
   "cell_type": "code",
   "execution_count": 29,
   "id": "intelligent-tunisia",
   "metadata": {},
   "outputs": [
    {
     "name": "stdout",
     "output_type": "stream",
     "text": [
      "0.07349665924276172\n"
     ]
    }
   ],
   "source": []
  }
 ],
 "metadata": {
  "kernelspec": {
   "display_name": "Python 3",
   "language": "python",
   "name": "python3"
  },
  "language_info": {
   "codemirror_mode": {
    "name": "ipython",
    "version": 3
   },
   "file_extension": ".py",
   "mimetype": "text/x-python",
   "name": "python",
   "nbconvert_exporter": "python",
   "pygments_lexer": "ipython3",
   "version": "3.7.4"
  }
 },
 "nbformat": 4,
 "nbformat_minor": 5
}
