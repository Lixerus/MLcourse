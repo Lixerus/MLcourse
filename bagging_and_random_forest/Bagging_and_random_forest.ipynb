{
 "cells": [
  {
   "cell_type": "markdown",
   "id": "expected-syndrome",
   "metadata": {},
   "source": [
    "####  Случайный лес и бэггинг"
   ]
  },
  {
   "cell_type": "code",
   "execution_count": 1,
   "id": "unknown-empire",
   "metadata": {},
   "outputs": [],
   "source": [
    "import matplotlib.pyplot as plt\n",
    "from sklearn.datasets import load_digits\n",
    "from sklearn.model_selection import cross_val_score, validation_curve\n",
    "from sklearn.tree import DecisionTreeClassifier\n",
    "from sklearn.ensemble import BaggingClassifier, RandomForestClassifier\n",
    "\n",
    "import numpy as np\n",
    "import seaborn as sns"
   ]
  },
  {
   "cell_type": "code",
   "execution_count": 7,
   "id": "mobile-january",
   "metadata": {},
   "outputs": [
    {
     "name": "stdout",
     "output_type": "stream",
     "text": [
      ".. _digits_dataset:\n",
      "\n",
      "Optical recognition of handwritten digits dataset\n",
      "--------------------------------------------------\n",
      "\n",
      "**Data Set Characteristics:**\n",
      "\n",
      "    :Number of Instances: 1797\n",
      "    :Number of Attributes: 64\n",
      "    :Attribute Information: 8x8 image of integer pixels in the range 0..16.\n",
      "    :Missing Attribute Values: None\n",
      "    :Creator: E. Alpaydin (alpaydin '@' boun.edu.tr)\n",
      "    :Date: July; 1998\n",
      "\n",
      "This is a copy of the test set of the UCI ML hand-written digits datasets\n",
      "https://archive.ics.uci.edu/ml/datasets/Optical+Recognition+of+Handwritten+Digits\n",
      "\n",
      "The data set contains images of hand-written digits: 10 classes where\n",
      "each class refers to a digit.\n",
      "\n",
      "Preprocessing programs made available by NIST were used to extract\n",
      "normalized bitmaps of handwritten digits from a preprinted form. From a\n",
      "total of 43 people, 30 contributed to the training set and different 13\n",
      "to the test set. 32x32 bitmaps are divided into nonoverlapping blocks of\n",
      "4x4 and the number of on pixels are counted in each block. This generates\n",
      "an input matrix of 8x8 where each element is an integer in the range\n",
      "0..16. This reduces dimensionality and gives invariance to small\n",
      "distortions.\n",
      "\n",
      "For info on NIST preprocessing routines, see M. D. Garris, J. L. Blue, G.\n",
      "T. Candela, D. L. Dimmick, J. Geist, P. J. Grother, S. A. Janet, and C.\n",
      "L. Wilson, NIST Form-Based Handprint Recognition System, NISTIR 5469,\n",
      "1994.\n",
      "\n",
      ".. topic:: References\n",
      "\n",
      "  - C. Kaynak (1995) Methods of Combining Multiple Classifiers and Their\n",
      "    Applications to Handwritten Digit Recognition, MSc Thesis, Institute of\n",
      "    Graduate Studies in Science and Engineering, Bogazici University.\n",
      "  - E. Alpaydin, C. Kaynak (1998) Cascading Classifiers, Kybernetika.\n",
      "  - Ken Tang and Ponnuthurai N. Suganthan and Xi Yao and A. Kai Qin.\n",
      "    Linear dimensionalityreduction using relevance weighted LDA. School of\n",
      "    Electrical and Electronic Engineering Nanyang Technological University.\n",
      "    2005.\n",
      "  - Claudio Gentile. A New Approximate Maximal Margin Classification\n",
      "    Algorithm. NIPS. 2000.\n",
      "\n"
     ]
    },
    {
     "data": {
      "text/plain": [
       "<Figure size 432x288 with 0 Axes>"
      ]
     },
     "metadata": {},
     "output_type": "display_data"
    },
    {
     "data": {
      "image/png": "[encoded data removed]",
      "text/plain": [
       "<Figure size 288x288 with 1 Axes>"
      ]
     },
     "metadata": {
      "needs_background": "light"
     },
     "output_type": "display_data"
    }
   ],
   "source": [
    "#загрузка датасета digits из sklearn\n",
    "digits = load_digits()\n",
    "print(digits.DESCR)\n",
    "X = digits.data\n",
    "Y = digits.target\n",
    "plt.gray()\n",
    "plt.matshow(digits.images[0])\n",
    "plt.show() "
   ]
  },
  {
   "cell_type": "code",
   "execution_count": 4,
   "id": "general-ebony",
   "metadata": {},
   "outputs": [
    {
     "name": "stdout",
     "output_type": "stream",
     "text": [
      "[[ 0.  0.  5. 13.  9.  1.  0.  0.]\n",
      " [ 0.  0. 13. 15. 10. 15.  5.  0.]\n",
      " [ 0.  3. 15.  2.  0. 11.  8.  0.]\n",
      " [ 0.  4. 12.  0.  0.  8.  8.  0.]\n",
      " [ 0.  5.  8.  0.  0.  9.  8.  0.]\n",
      " [ 0.  4. 11.  0.  1. 12.  7.  0.]\n",
      " [ 0.  2. 14.  5. 10. 12.  0.  0.]\n",
      " [ 0.  0.  6. 13. 10.  0.  0.  0.]]\n"
     ]
    }
   ],
   "source": [
    "print(digits.images[0])"
   ]
  },
  {
   "cell_type": "code",
   "execution_count": 11,
   "id": "adapted-vitamin",
   "metadata": {},
   "outputs": [
    {
     "name": "stdout",
     "output_type": "stream",
     "text": [
      "[0.77222222 0.82222222 0.83333333 0.76666667 0.78888889 0.89444444\n",
      " 0.90555556 0.82122905 0.81564246 0.81005587]\n",
      "Mean of an cross_val_score 0.823026070763501\n"
     ]
    }
   ],
   "source": [
    "# построим решающее дерево с помощью  DecisionTreeClassifier\n",
    "DTC = DecisionTreeClassifier()\n",
    "DTC_score = cross_val_score(DTC,X,Y,cv=10)\n",
    "print(DTC_score)\n",
    "print(\"Mean of an cross_val_score\", DTC_score.mean())"
   ]
  },
  {
   "cell_type": "code",
   "execution_count": 14,
   "id": "smart-prompt",
   "metadata": {},
   "outputs": [
    {
     "name": "stdout",
     "output_type": "stream",
     "text": [
      "[0.88333333 0.95555556 0.93888889 0.87777778 0.95       0.92777778\n",
      " 0.96666667 0.98882682 0.90502793 0.92178771]\n",
      "Mean of an cross_val_score 0.9315642458100559\n"
     ]
    }
   ],
   "source": [
    "#теперь воспользуемся BaggingClassifier\n",
    "bag_cls = BaggingClassifier(DTC, n_estimators = 100, max_features = int(np.sqrt(X.shape[1])))\n",
    "bc_score = cross_val_score(bag_cls,X,Y,cv=10)\n",
    "print(bc_score)\n",
    "print(\"Mean of an cross_val_score\", bc_score.mean())"
   ]
  },
  {
   "cell_type": "code",
   "execution_count": 15,
   "id": "rolled-bookmark",
   "metadata": {},
   "outputs": [
    {
     "name": "stdout",
     "output_type": "stream",
     "text": [
      "[0.88333333 0.96666667 0.95       0.92222222 0.96111111 0.96111111\n",
      " 0.97777778 0.96648045 0.92178771 0.93854749]\n",
      "Mean of an cross_val_score 0.9449037864680323\n"
     ]
    }
   ],
   "source": [
    "#попробуем выбрать случайные признаки не один раз на все дерево, \n",
    "#а при построении каждой вершины дерева\n",
    "DTC = DecisionTreeClassifier(max_features = \"sqrt\")\n",
    "bag_cls = BaggingClassifier(DTC, n_estimators = 100)\n",
    "bc_score = cross_val_score(bag_cls,X,Y,cv=10)\n",
    "print(bc_score)\n",
    "print(\"Mean of an cross_val_score\", bc_score.mean())"
   ]
  },
  {
   "cell_type": "code",
   "execution_count": 30,
   "id": "sonic-continuity",
   "metadata": {},
   "outputs": [
    {
     "name": "stdout",
     "output_type": "stream",
     "text": [
      "[0.90555556 0.98333333 0.96111111 0.92222222 0.95       0.97222222\n",
      " 0.97222222 0.96089385 0.91061453 0.94413408]\n",
      "Mean of an cross_val_score 0.9482309124767225\n"
     ]
    }
   ],
   "source": [
    "#теперь воспользуемся RandomForestClassifier\n",
    "rf_cls = RandomForestClassifier()\n",
    "rfc_score = cross_val_score(rf_cls,X,Y,cv=10)\n",
    "print(rfc_score)\n",
    "print(\"Mean of an cross_val_score\", rfc_score.mean())"
   ]
  },
  {
   "cell_type": "code",
   "execution_count": 31,
   "id": "purple-burlington",
   "metadata": {},
   "outputs": [
    {
     "name": "stdout",
     "output_type": "stream",
     "text": [
      "training score: [0.99944348 1.         1.        ] training score deviation: [0.00052071 0.         0.        ]\n",
      "test score: [0.90150727 0.94436862 0.9354689 ] test score deviation: [0.02951102 0.01635753 0.02122352]\n"
     ]
    }
   ],
   "source": [
    "#посмотрим, как rfc_score зависит от некоторых параметров.\n",
    "#1)кол-во деревьев\n",
    "arg_range = np.array([10,50,100])\n",
    "train_scores, test_scores = validation_curve(rf_cls,X,Y,param_name = \"n_estimators\", param_range = arg_range, cv=5 )\n",
    "print(\"training score:\", train_scores.mean(axis =1), \"training score deviation:\", train_scores.std(axis=1))\n",
    "print(\"test score:\", test_scores.mean(axis =1), \"test score deviation:\", test_scores.std(axis=1))\n"
   ]
  },
  {
   "cell_type": "code",
   "execution_count": 32,
   "id": "similar-count",
   "metadata": {},
   "outputs": [
    {
     "name": "stdout",
     "output_type": "stream",
     "text": [
      "training score: [1. 1. 1. 1. 1. 1.] training score deviation: [0. 0. 0. 0. 0. 0.]\n",
      "test score: [0.9354658  0.94380687 0.93880068 0.93267874 0.93992108 0.93101207] test score deviation: [0.02372636 0.01879405 0.01538917 0.02326011 0.02202802 0.02366532]\n"
     ]
    }
   ],
   "source": [
    "#2)количество признаков, выбираемых при построении каждой вершины дерева\n",
    "arg_range = np.array([1,3,5,8,15,25])\n",
    "train_scores, test_scores = validation_curve(rf_cls,X,Y,param_name = \"max_features\", param_range = arg_range, cv=5 )\n",
    "print(\"training score:\", train_scores.mean(axis =1), \"training score deviation:\", train_scores.std(axis=1))\n",
    "print(\"test score:\", test_scores.mean(axis =1), \"test score deviation:\", test_scores.std(axis=1))\n"
   ]
  },
  {
   "cell_type": "code",
   "execution_count": 38,
   "id": "standing-reset",
   "metadata": {},
   "outputs": [
    {
     "name": "stdout",
     "output_type": "stream",
     "text": [
      "training score: [0.97120179 1.         1.         1.         1.         1.        ] training score deviation: [0.00310139 0.         0.         0.         0.         0.        ]\n",
      "test score: [0.89484834 0.93880842 0.93379913 0.93936243 0.93546735 0.9399087 ] test score deviation: [0.03147651 0.02335434 0.02236068 0.02620757 0.019799   0.01465227]\n"
     ]
    }
   ],
   "source": [
    "#3)ограничения на глубину дерева\n",
    "arg_range = np.array([5, 10, 50, 100,200])\n",
    "train_scores, test_scores = validation_curve(rf_cls, X, Y, param_name=\"max_depth\", param_range=arg_range, cv=5)\n",
    "print(\"training score:\", train_scores.mean(axis =1), \"training score deviation:\", train_scores.std(axis=1))\n",
    "print(\"test score:\", test_scores.mean(axis =1), \"test score deviation:\", test_scores.std(axis=1))\n"
   ]
  },
  {
   "cell_type": "code",
   "execution_count": null,
   "id": "simplified-power",
   "metadata": {},
   "outputs": [],
   "source": []
  }
 ],
 "metadata": {
  "kernelspec": {
   "display_name": "Python 3",
   "language": "python",
   "name": "python3"
  },
  "language_info": {
   "codemirror_mode": {
    "name": "ipython",
    "version": 3
   },
   "file_extension": ".py",
   "mimetype": "text/x-python",
   "name": "python",
   "nbconvert_exporter": "python",
   "pygments_lexer": "ipython3",
   "version": "3.7.4"
  }
 },
 "nbformat": 4,
 "nbformat_minor": 5
}
