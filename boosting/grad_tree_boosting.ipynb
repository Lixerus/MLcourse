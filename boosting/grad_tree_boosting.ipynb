{
 "cells": [
  {
   "cell_type": "code",
   "execution_count": 31,
   "id": "industrial-retail",
   "metadata": {},
   "outputs": [],
   "source": [
    "import numpy as np\n",
    "\n",
    "from sklearn.datasets import load_boston\n",
    "from sklearn.model_selection import train_test_split\n",
    "from sklearn.linear_model import LinearRegression\n",
    "from sklearn.metrics import mean_squared_error\n",
    "from sklearn.ensemble import GradientBoostingRegressor\n",
    "from sklearn.tree import DecisionTreeRegressor\n",
    "from sklearn.model_selection import validation_curve"
   ]
  },
  {
   "cell_type": "code",
   "execution_count": 2,
   "id": "egyptian-richards",
   "metadata": {},
   "outputs": [
    {
     "name": "stdout",
     "output_type": "stream",
     "text": [
      ".. _boston_dataset:\n",
      "\n",
      "Boston house prices dataset\n",
      "---------------------------\n",
      "\n",
      "**Data Set Characteristics:**  \n",
      "\n",
      "    :Number of Instances: 506 \n",
      "\n",
      "    :Number of Attributes: 13 numeric/categorical predictive. Median Value (attribute 14) is usually the target.\n",
      "\n",
      "    :Attribute Information (in order):\n",
      "        - CRIM     per capita crime rate by town\n",
      "        - ZN       proportion of residential land zoned for lots over 25,000 sq.ft.\n",
      "        - INDUS    proportion of non-retail business acres per town\n",
      "        - CHAS     Charles River dummy variable (= 1 if tract bounds river; 0 otherwise)\n",
      "        - NOX      nitric oxides concentration (parts per 10 million)\n",
      "        - RM       average number of rooms per dwelling\n",
      "        - AGE      proportion of owner-occupied units built prior to 1940\n",
      "        - DIS      weighted distances to five Boston employment centres\n",
      "        - RAD      index of accessibility to radial highways\n",
      "        - TAX      full-value property-tax rate per $10,000\n",
      "        - PTRATIO  pupil-teacher ratio by town\n",
      "        - B        1000(Bk - 0.63)^2 where Bk is the proportion of black people by town\n",
      "        - LSTAT    % lower status of the population\n",
      "        - MEDV     Median value of owner-occupied homes in $1000's\n",
      "\n",
      "    :Missing Attribute Values: None\n",
      "\n",
      "    :Creator: Harrison, D. and Rubinfeld, D.L.\n",
      "\n",
      "This is a copy of UCI ML housing dataset.\n",
      "https://archive.ics.uci.edu/ml/machine-learning-databases/housing/\n",
      "\n",
      "\n",
      "This dataset was taken from the StatLib library which is maintained at Carnegie Mellon University.\n",
      "\n",
      "The Boston house-price data of Harrison, D. and Rubinfeld, D.L. 'Hedonic\n",
      "prices and the demand for clean air', J. Environ. Economics & Management,\n",
      "vol.5, 81-102, 1978.   Used in Belsley, Kuh & Welsch, 'Regression diagnostics\n",
      "...', Wiley, 1980.   N.B. Various transformations are used in the table on\n",
      "pages 244-261 of the latter.\n",
      "\n",
      "The Boston house-price data has been used in many machine learning papers that address regression\n",
      "problems.   \n",
      "     \n",
      ".. topic:: References\n",
      "\n",
      "   - Belsley, Kuh & Welsch, 'Regression diagnostics: Identifying Influential Data and Sources of Collinearity', Wiley, 1980. 244-261.\n",
      "   - Quinlan,R. (1993). Combining Instance-Based and Model-Based Learning. In Proceedings on the Tenth International Conference of Machine Learning, 236-243, University of Massachusetts, Amherst. Morgan Kaufmann.\n",
      "\n"
     ]
    }
   ],
   "source": [
    "boston = load_boston()\n",
    "print(boston.DESCR)"
   ]
  },
  {
   "cell_type": "code",
   "execution_count": 3,
   "id": "prescription-video",
   "metadata": {},
   "outputs": [],
   "source": [
    "p = 0.75\n",
    "\n",
    "idx = int(p * boston.data.shape[0]) + 1\n",
    "\n",
    "X_train, X_test = np.split(boston.data, [idx])\n",
    "Y_train, Y_test = np.split(boston.target, [idx])"
   ]
  },
  {
   "cell_type": "code",
   "execution_count": 4,
   "id": "harmful-rochester",
   "metadata": {},
   "outputs": [],
   "source": [
    "def L_i_derivative (y_predict,y):\n",
    "    return (y_predict - y)"
   ]
  },
  {
   "cell_type": "code",
   "execution_count": 5,
   "id": "intensive-canal",
   "metadata": {},
   "outputs": [
    {
     "name": "stdout",
     "output_type": "stream",
     "text": [
      "RMSE:  4.969222077628377\n"
     ]
    }
   ],
   "source": [
    "base_algorithms = []\n",
    "base_alg_coeffs = []\n",
    "\n",
    "def treegboost_pred(base_algs, coeffs, X):\n",
    "    return sum(i * j.predict(X) for i,j in zip(coeffs,base_algs))\n",
    "\n",
    "dtr = DecisionTreeRegressor(max_depth = 5, random_state = 42)\n",
    "dtr.fit(X_train, Y_train)\n",
    "base_algorithms.append(dtr)\n",
    "base_alg_coeffs.append(0.9)\n",
    "\n",
    "for i in range (2):\n",
    "    dtr = DecisionTreeRegressor(max_depth = 5, random_state = 42)\n",
    "    dtr.fit(X_train, L_i_derivative(treegboost_pred(base_algorithms, base_alg_coeffs, X_train),Y_train))\n",
    "    base_algorithms.append(dtr)\n",
    "    base_alg_coeffs.append(0.9/(1.0+i))\n",
    "    \n",
    "#print(treegboost_pred(base_algorithms, base_alg_coeffs, X_test))\n",
    "#print(Y_test)\n",
    "print(\"RMSE: \", np.sqrt(mean_squared_error(Y_test, treegboost_pred(base_algorithms,base_alg_coeffs,X_test))))\n",
    "    "
   ]
  },
  {
   "cell_type": "code",
   "execution_count": 22,
   "id": "norwegian-biodiversity",
   "metadata": {},
   "outputs": [
    {
     "name": "stdout",
     "output_type": "stream",
     "text": [
      "train score: [0.90529915 0.96243631 0.97875555 0.98651671 0.99131279 0.99735812\n",
      " 0.99906909 0.99974376 0.99986577 0.99992858 0.99996045 0.99999719] strain score std: [8.53761524e-03 4.55782388e-03 2.71681971e-03 1.67808540e-03\n",
      " 1.26722791e-03 4.15989389e-04 1.64600898e-04 3.84028821e-05\n",
      " 1.99854744e-05 1.11433679e-05 5.05626467e-06 4.79690372e-07]\n",
      "test score: [0.57183394 0.66247202 0.67791619 0.66951505 0.68298986 0.67590452\n",
      " 0.67275961 0.66369047 0.6668695  0.67268193 0.66069097 0.67126719] strain score std: [0.22512869 0.1684089  0.15946315 0.17292391 0.15074363 0.16130299\n",
      " 0.16375608 0.1791528  0.17303449 0.15724698 0.17586587 0.16423517]\n"
     ]
    }
   ],
   "source": [
    "GBT = GradientBoostingRegressor()\n",
    "arg_range = [20,50,100,150,200,350,500,700,800,900,1000,1450]\n",
    "train_scores, test_scores = validation_curve(GBT, boston.data, boston.target, param_name = \"n_estimators\", param_range = arg_range, cv = 5)\n",
    "print(\"train score:\", train_scores.mean(axis = 1), \"strain score std:\", train_scores.std(axis =1))\n",
    "print(\"test score:\", test_scores.mean(axis = 1), \"strain score std:\", test_scores.std(axis = 1))\n"
   ]
  },
  {
   "cell_type": "code",
   "execution_count": 23,
   "id": "distributed-commercial",
   "metadata": {},
   "outputs": [
    {
     "name": "stdout",
     "output_type": "stream",
     "text": [
      "train score: [0.95096293 0.97875555 0.9925238  0.99774812 0.99999608 1.\n",
      " 1.         1.         1.         1.        ] strain score std: [5.48192721e-03 2.71681971e-03 9.06733107e-04 3.82204891e-04\n",
      " 1.54415760e-06 5.98859230e-11 4.18776655e-14 0.00000000e+00\n",
      " 0.00000000e+00 0.00000000e+00]\n",
      "test score: [0.68954001 0.67774182 0.63802253 0.56530986 0.47728097 0.39633303\n",
      " 0.38763882 0.38697361 0.383208   0.3861982 ] strain score std: [0.15509841 0.15450158 0.17632729 0.22345417 0.33126798 0.44566117\n",
      " 0.40949888 0.40288348 0.43118986 0.42457114]\n"
     ]
    }
   ],
   "source": [
    "arg_range = [2,3,4,5,8,12,20,40,100,150]\n",
    "train_scores, test_scores = validation_curve(GBT, boston.data, boston.target, param_name = \"max_depth\", param_range = arg_range, cv = 5)\n",
    "print(\"train score:\", train_scores.mean(axis = 1), \"strain score std:\", train_scores.std(axis =1))\n",
    "print(\"test score:\", test_scores.mean(axis = 1), \"strain score std:\", test_scores.std(axis = 1))\n"
   ]
  },
  {
   "cell_type": "code",
   "execution_count": 25,
   "id": "everyday-google",
   "metadata": {},
   "outputs": [
    {
     "name": "stdout",
     "output_type": "stream",
     "text": [
      "RMSE:  4.261642365798029\n"
     ]
    }
   ],
   "source": [
    "GBT.fit(X_train,Y_train)\n",
    "print(\"RMSE: \", np.sqrt(mean_squared_error(Y_test, GBT.predict(X_test))))"
   ]
  },
  {
   "cell_type": "code",
   "execution_count": 30,
   "id": "collaborative-banking",
   "metadata": {},
   "outputs": [
    {
     "name": "stdout",
     "output_type": "stream",
     "text": [
      "RMSE:  7.819688142087344\n"
     ]
    }
   ],
   "source": [
    "lreg = LinearRegression()\n",
    "lreg.fit(X_train,Y_train)\n",
    "print(\"RMSE: \", np.sqrt(mean_squared_error(Y_test, lreg.predict(X_test))))"
   ]
  }
 ],
 "metadata": {
  "kernelspec": {
   "display_name": "Python 3",
   "language": "python",
   "name": "python3"
  },
  "language_info": {
   "codemirror_mode": {
    "name": "ipython",
    "version": 3
   },
   "file_extension": ".py",
   "mimetype": "text/x-python",
   "name": "python",
   "nbconvert_exporter": "python",
   "pygments_lexer": "ipython3",
   "version": "3.7.4"
  }
 },
 "nbformat": 4,
 "nbformat_minor": 5
}
